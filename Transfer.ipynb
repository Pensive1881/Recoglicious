{
 "cells": [
  {
   "cell_type": "code",
   "execution_count": 39,
   "metadata": {},
   "outputs": [],
   "source": [
    "# Horray libraries\n",
    "import matplotlib.pyplot as plt\n",
    "import numpy as np\n",
    "import os\n",
    "import tensorflow as tf\n",
    "\n",
    "from tensorflow import keras\n",
    "from tensorflow.keras import layers\n",
    "from tensorflow.keras.models import Sequential\n",
    "\n",
    "from tensorflow.keras.preprocessing import image_dataset_from_directory\n",
    "from sklearn.linear_model import LogisticRegression"
   ]
  },
  {
   "cell_type": "code",
   "execution_count": 40,
   "metadata": {},
   "outputs": [],
   "source": [
    "batch_size = 32\n",
    "img_height = 180\n",
    "img_width = 180"
   ]
  },
  {
   "cell_type": "code",
   "execution_count": 41,
   "metadata": {},
   "outputs": [],
   "source": [
    "from src import make_test_train"
   ]
  },
  {
   "cell_type": "code",
   "execution_count": 42,
   "metadata": {},
   "outputs": [
    {
     "name": "stdout",
     "output_type": "stream",
     "text": [
      "Found 5072 files belonging to 2 classes.\n",
      "Found 1765 files belonging to 2 classes.\n"
     ]
    }
   ],
   "source": [
    "test, train = make_test_train()"
   ]
  },
  {
   "cell_type": "code",
   "execution_count": null,
   "metadata": {},
   "outputs": [],
   "source": []
  },
  {
   "cell_type": "code",
   "execution_count": 43,
   "metadata": {},
   "outputs": [],
   "source": [
    "# Data augmentation\n",
    "data_augmentation = keras.Sequential(\n",
    "  [\n",
    "    layers.experimental.preprocessing.RandomFlip(\"horizontal\", \n",
    "                                                 input_shape=(img_height, \n",
    "                                                              img_width,\n",
    "                                                              3)),\n",
    "    layers.experimental.preprocessing.RandomRotation(0.1),\n",
    "    layers.experimental.preprocessing.RandomZoom(0.1),\n",
    "  ]\n",
    ")"
   ]
  },
  {
   "cell_type": "code",
   "execution_count": 44,
   "metadata": {},
   "outputs": [],
   "source": [
    "preprocess_input = layers.experimental.preprocessing.Rescaling(1./255, input_shape=(img_height, img_width, 3))"
   ]
  },
  {
   "cell_type": "code",
   "execution_count": null,
   "metadata": {},
   "outputs": [],
   "source": []
  },
  {
   "cell_type": "code",
   "execution_count": 45,
   "metadata": {},
   "outputs": [],
   "source": [
    "base_model = tf.keras.applications.ResNet152V2(input_shape=(img_height, img_width, 3),\n",
    "                                               include_top=False,\n",
    "                                               weights='imagenet')\n",
    "\n",
    "base_model.trainable = False\n",
    "global_average_layer = tf.keras.layers.GlobalAveragePooling2D()\n",
    "prediction_layer = tf.keras.layers.Dense(1)"
   ]
  },
  {
   "cell_type": "code",
   "execution_count": null,
   "metadata": {},
   "outputs": [],
   "source": []
  },
  {
   "cell_type": "code",
   "execution_count": 46,
   "metadata": {},
   "outputs": [],
   "source": [
    "def initialize_model():\n",
    "    inputs = tf.keras.Input(shape=(img_height, img_width, 3))\n",
    "    x = data_augmentation(inputs)\n",
    "    x = preprocess_input(x)\n",
    "    x = base_model(x, training=False)\n",
    "    x = global_average_layer(x)\n",
    "    x = tf.keras.layers.Dropout(0.2)(x)\n",
    "    outputs = prediction_layer(x)\n",
    "    model = tf.keras.Model(inputs, outputs)\n",
    "    base_learning_rate = 0.00001\n",
    "\n",
    "    model.compile(optimizer=tf.keras.optimizers.Adam(lr=base_learning_rate),\n",
    "                  loss=tf.keras.losses.BinaryCrossentropy(from_logits=True),\n",
    "                  metrics=['accuracy'])\n",
    "    return model"
   ]
  },
  {
   "cell_type": "code",
   "execution_count": 47,
   "metadata": {},
   "outputs": [
    {
     "name": "stdout",
     "output_type": "stream",
     "text": [
      "Epoch 1/100\n",
      "159/159 [==============================] - 330s 2s/step - loss: 0.7911 - accuracy: 0.5091 - val_loss: 0.7682 - val_accuracy: 0.4975\n",
      "Epoch 2/100\n",
      "159/159 [==============================] - 346s 2s/step - loss: 0.7490 - accuracy: 0.5479 - val_loss: 0.7259 - val_accuracy: 0.5354\n",
      "Epoch 3/100\n",
      "159/159 [==============================] - 367s 2s/step - loss: 0.7236 - accuracy: 0.5655 - val_loss: 0.6912 - val_accuracy: 0.5683\n",
      "Epoch 4/100\n",
      "159/159 [==============================] - 376s 2s/step - loss: 0.7013 - accuracy: 0.5769 - val_loss: 0.6627 - val_accuracy: 0.6085\n",
      "Epoch 5/100\n",
      "159/159 [==============================] - 382s 2s/step - loss: 0.6582 - accuracy: 0.6201 - val_loss: 0.6420 - val_accuracy: 0.6397\n",
      "Epoch 6/100\n",
      "159/159 [==============================] - 386s 2s/step - loss: 0.6459 - accuracy: 0.6250 - val_loss: 0.6174 - val_accuracy: 0.6584\n",
      "Epoch 7/100\n",
      "159/159 [==============================] - 388s 2s/step - loss: 0.6307 - accuracy: 0.6418 - val_loss: 0.5996 - val_accuracy: 0.6833\n",
      "Epoch 8/100\n",
      "159/159 [==============================] - 388s 2s/step - loss: 0.6117 - accuracy: 0.6593 - val_loss: 0.5827 - val_accuracy: 0.7020\n",
      "Epoch 9/100\n",
      "159/159 [==============================] - 390s 2s/step - loss: 0.5910 - accuracy: 0.6769 - val_loss: 0.5668 - val_accuracy: 0.7127\n",
      "Epoch 10/100\n",
      "159/159 [==============================] - 385s 2s/step - loss: 0.5761 - accuracy: 0.6875 - val_loss: 0.5551 - val_accuracy: 0.7235\n",
      "Epoch 11/100\n",
      "159/159 [==============================] - 375s 2s/step - loss: 0.5562 - accuracy: 0.6983 - val_loss: 0.5454 - val_accuracy: 0.7331\n",
      "Epoch 12/100\n",
      "159/159 [==============================] - 372s 2s/step - loss: 0.5503 - accuracy: 0.7119 - val_loss: 0.5369 - val_accuracy: 0.7388\n",
      "Epoch 13/100\n",
      "159/159 [==============================] - 370s 2s/step - loss: 0.5243 - accuracy: 0.7297 - val_loss: 0.5279 - val_accuracy: 0.7422\n",
      "Epoch 14/100\n",
      "159/159 [==============================] - 369s 2s/step - loss: 0.5086 - accuracy: 0.7455 - val_loss: 0.5197 - val_accuracy: 0.7450\n",
      "Epoch 15/100\n",
      "159/159 [==============================] - 369s 2s/step - loss: 0.5000 - accuracy: 0.7472 - val_loss: 0.5104 - val_accuracy: 0.7479\n",
      "Epoch 16/100\n",
      "159/159 [==============================] - 369s 2s/step - loss: 0.4818 - accuracy: 0.7622 - val_loss: 0.5036 - val_accuracy: 0.7530\n",
      "Epoch 17/100\n",
      "159/159 [==============================] - 367s 2s/step - loss: 0.4725 - accuracy: 0.7691 - val_loss: 0.4961 - val_accuracy: 0.7541\n",
      "Epoch 18/100\n",
      "159/159 [==============================] - 366s 2s/step - loss: 0.4619 - accuracy: 0.7786 - val_loss: 0.4916 - val_accuracy: 0.7592\n",
      "Epoch 19/100\n",
      "159/159 [==============================] - 371s 2s/step - loss: 0.4466 - accuracy: 0.7886 - val_loss: 0.4829 - val_accuracy: 0.7637\n",
      "Epoch 20/100\n",
      "159/159 [==============================] - 387s 2s/step - loss: 0.4376 - accuracy: 0.7953 - val_loss: 0.4800 - val_accuracy: 0.7677\n",
      "Epoch 21/100\n",
      "159/159 [==============================] - 406s 3s/step - loss: 0.4243 - accuracy: 0.8013 - val_loss: 0.4735 - val_accuracy: 0.7739\n",
      "Epoch 22/100\n",
      "159/159 [==============================] - 424s 3s/step - loss: 0.4210 - accuracy: 0.8021 - val_loss: 0.4688 - val_accuracy: 0.7756\n",
      "Epoch 23/100\n",
      "159/159 [==============================] - 433s 3s/step - loss: 0.4053 - accuracy: 0.8204 - val_loss: 0.4676 - val_accuracy: 0.7796\n",
      "Epoch 24/100\n",
      "159/159 [==============================] - 441s 3s/step - loss: 0.3975 - accuracy: 0.8300 - val_loss: 0.4623 - val_accuracy: 0.7819\n",
      "Epoch 25/100\n",
      "159/159 [==============================] - 449s 3s/step - loss: 0.3922 - accuracy: 0.8239 - val_loss: 0.4576 - val_accuracy: 0.7796\n",
      "Epoch 26/100\n",
      "159/159 [==============================] - 451s 3s/step - loss: 0.3914 - accuracy: 0.8220 - val_loss: 0.4555 - val_accuracy: 0.7819\n",
      "Epoch 27/100\n",
      "159/159 [==============================] - 453s 3s/step - loss: 0.3821 - accuracy: 0.8293 - val_loss: 0.4525 - val_accuracy: 0.7841\n",
      "Epoch 28/100\n",
      "159/159 [==============================] - 456s 3s/step - loss: 0.3712 - accuracy: 0.8385 - val_loss: 0.4458 - val_accuracy: 0.7756\n",
      "Epoch 29/100\n",
      "159/159 [==============================] - 470s 3s/step - loss: 0.3637 - accuracy: 0.8460 - val_loss: 0.4458 - val_accuracy: 0.7836\n",
      "Epoch 30/100\n",
      "159/159 [==============================] - 479s 3s/step - loss: 0.3599 - accuracy: 0.8409 - val_loss: 0.4445 - val_accuracy: 0.7875\n",
      "Epoch 31/100\n",
      "159/159 [==============================] - 481s 3s/step - loss: 0.3531 - accuracy: 0.8494 - val_loss: 0.4404 - val_accuracy: 0.7824\n",
      "Epoch 32/100\n",
      "159/159 [==============================] - 481s 3s/step - loss: 0.3427 - accuracy: 0.8638 - val_loss: 0.4362 - val_accuracy: 0.7779\n",
      "Epoch 33/100\n",
      "159/159 [==============================] - 477s 3s/step - loss: 0.3422 - accuracy: 0.8563 - val_loss: 0.4367 - val_accuracy: 0.7819\n",
      "Epoch 34/100\n",
      "159/159 [==============================] - 462s 3s/step - loss: 0.3314 - accuracy: 0.8642 - val_loss: 0.4370 - val_accuracy: 0.7841\n",
      "Epoch 35/100\n",
      "159/159 [==============================] - 499s 3s/step - loss: 0.3261 - accuracy: 0.8709 - val_loss: 0.4336 - val_accuracy: 0.7813\n",
      "Epoch 36/100\n",
      "159/159 [==============================] - 534s 3s/step - loss: 0.3200 - accuracy: 0.8756 - val_loss: 0.4293 - val_accuracy: 0.7836\n",
      "Epoch 37/100\n",
      "159/159 [==============================] - 461s 3s/step - loss: 0.3198 - accuracy: 0.8726 - val_loss: 0.4282 - val_accuracy: 0.7836\n",
      "Epoch 38/100\n",
      "159/159 [==============================] - 418s 3s/step - loss: 0.3120 - accuracy: 0.8793 - val_loss: 0.4277 - val_accuracy: 0.7830\n",
      "Epoch 39/100\n",
      "159/159 [==============================] - 400s 3s/step - loss: 0.3067 - accuracy: 0.8807 - val_loss: 0.4268 - val_accuracy: 0.7864\n",
      "Epoch 40/100\n",
      "159/159 [==============================] - 394s 2s/step - loss: 0.3015 - accuracy: 0.8858 - val_loss: 0.4285 - val_accuracy: 0.7864\n",
      "Epoch 41/100\n",
      "159/159 [==============================] - 389s 2s/step - loss: 0.2973 - accuracy: 0.8853 - val_loss: 0.4284 - val_accuracy: 0.7875\n",
      "Epoch 42/100\n",
      "159/159 [==============================] - 387s 2s/step - loss: 0.2990 - accuracy: 0.8819 - val_loss: 0.4245 - val_accuracy: 0.7864\n",
      "Epoch 43/100\n",
      "159/159 [==============================] - 384s 2s/step - loss: 0.2952 - accuracy: 0.8858 - val_loss: 0.4242 - val_accuracy: 0.7881\n",
      "Epoch 44/100\n",
      "159/159 [==============================] - 382s 2s/step - loss: 0.2873 - accuracy: 0.8868 - val_loss: 0.4236 - val_accuracy: 0.7881\n",
      "Epoch 45/100\n",
      "159/159 [==============================] - 381s 2s/step - loss: 0.2875 - accuracy: 0.8906 - val_loss: 0.4240 - val_accuracy: 0.7881\n",
      "Epoch 46/100\n",
      "159/159 [==============================] - 378s 2s/step - loss: 0.2839 - accuracy: 0.8896 - val_loss: 0.4225 - val_accuracy: 0.7875\n",
      "Epoch 47/100\n",
      "159/159 [==============================] - 377s 2s/step - loss: 0.2734 - accuracy: 0.9014 - val_loss: 0.4211 - val_accuracy: 0.7864\n",
      "Epoch 48/100\n",
      "159/159 [==============================] - 374s 2s/step - loss: 0.2729 - accuracy: 0.8971 - val_loss: 0.4214 - val_accuracy: 0.7875\n",
      "Epoch 49/100\n",
      "159/159 [==============================] - 373s 2s/step - loss: 0.2653 - accuracy: 0.9040 - val_loss: 0.4190 - val_accuracy: 0.7858\n",
      "Epoch 50/100\n",
      "159/159 [==============================] - 372s 2s/step - loss: 0.2662 - accuracy: 0.9004 - val_loss: 0.4180 - val_accuracy: 0.7858\n",
      "Epoch 51/100\n",
      "159/159 [==============================] - 372s 2s/step - loss: 0.2545 - accuracy: 0.9060 - val_loss: 0.4188 - val_accuracy: 0.7864\n",
      "Epoch 52/100\n",
      "159/159 [==============================] - 371s 2s/step - loss: 0.2588 - accuracy: 0.9006 - val_loss: 0.4194 - val_accuracy: 0.7892\n",
      "Epoch 53/100\n",
      "159/159 [==============================] - 371s 2s/step - loss: 0.2530 - accuracy: 0.9075 - val_loss: 0.4201 - val_accuracy: 0.7892\n",
      "Epoch 54/100\n",
      "159/159 [==============================] - 370s 2s/step - loss: 0.2543 - accuracy: 0.9073 - val_loss: 0.4189 - val_accuracy: 0.7887\n",
      "Epoch 55/100\n",
      "159/159 [==============================] - 371s 2s/step - loss: 0.2517 - accuracy: 0.9099 - val_loss: 0.4171 - val_accuracy: 0.7875\n",
      "Epoch 56/100\n",
      "159/159 [==============================] - 370s 2s/step - loss: 0.2443 - accuracy: 0.9125 - val_loss: 0.4191 - val_accuracy: 0.7909\n",
      "Epoch 57/100\n",
      "159/159 [==============================] - 368s 2s/step - loss: 0.2462 - accuracy: 0.9101 - val_loss: 0.4181 - val_accuracy: 0.7898\n",
      "Epoch 58/100\n",
      "159/159 [==============================] - 369s 2s/step - loss: 0.2323 - accuracy: 0.9160 - val_loss: 0.4182 - val_accuracy: 0.7915\n",
      "Epoch 59/100\n",
      "159/159 [==============================] - 369s 2s/step - loss: 0.2346 - accuracy: 0.9174 - val_loss: 0.4187 - val_accuracy: 0.7921\n",
      "Epoch 60/100\n",
      "159/159 [==============================] - 367s 2s/step - loss: 0.2348 - accuracy: 0.9166 - val_loss: 0.4193 - val_accuracy: 0.7926\n",
      "Epoch 61/100\n",
      "159/159 [==============================] - 366s 2s/step - loss: 0.2355 - accuracy: 0.9146 - val_loss: 0.4195 - val_accuracy: 0.7932\n",
      "Epoch 62/100\n",
      "159/159 [==============================] - 367s 2s/step - loss: 0.2255 - accuracy: 0.9198 - val_loss: 0.4169 - val_accuracy: 0.7915\n",
      "Epoch 63/100\n",
      "159/159 [==============================] - 367s 2s/step - loss: 0.2206 - accuracy: 0.9274 - val_loss: 0.4165 - val_accuracy: 0.7915\n",
      "Epoch 64/100\n",
      "159/159 [==============================] - 367s 2s/step - loss: 0.2272 - accuracy: 0.9178 - val_loss: 0.4161 - val_accuracy: 0.7909\n",
      "Epoch 65/100\n",
      "159/159 [==============================] - 367s 2s/step - loss: 0.2256 - accuracy: 0.9170 - val_loss: 0.4154 - val_accuracy: 0.7887\n",
      "Epoch 66/100\n",
      "159/159 [==============================] - 369s 2s/step - loss: 0.2270 - accuracy: 0.9182 - val_loss: 0.4164 - val_accuracy: 0.7898\n",
      "Epoch 67/100\n",
      "159/159 [==============================] - 374s 2s/step - loss: 0.2174 - accuracy: 0.9249 - val_loss: 0.4169 - val_accuracy: 0.7909\n",
      "Epoch 68/100\n",
      "159/159 [==============================] - 391s 2s/step - loss: 0.2108 - accuracy: 0.9304 - val_loss: 0.4174 - val_accuracy: 0.7915\n",
      "Epoch 69/100\n",
      "159/159 [==============================] - 415s 3s/step - loss: 0.2175 - accuracy: 0.9223 - val_loss: 0.4166 - val_accuracy: 0.7892\n",
      "Epoch 70/100\n",
      "159/159 [==============================] - 431s 3s/step - loss: 0.2084 - accuracy: 0.9300 - val_loss: 0.4168 - val_accuracy: 0.7892\n",
      "Epoch 71/100\n",
      "159/159 [==============================] - 437s 3s/step - loss: 0.2086 - accuracy: 0.9276 - val_loss: 0.4172 - val_accuracy: 0.7898\n",
      "Epoch 72/100\n",
      "159/159 [==============================] - 429s 3s/step - loss: 0.2070 - accuracy: 0.9276 - val_loss: 0.4166 - val_accuracy: 0.7892\n",
      "Epoch 73/100\n",
      "159/159 [==============================] - 397s 2s/step - loss: 0.2118 - accuracy: 0.9247 - val_loss: 0.4174 - val_accuracy: 0.7892\n",
      "Epoch 74/100\n",
      "159/159 [==============================] - 386s 2s/step - loss: 0.2057 - accuracy: 0.9282 - val_loss: 0.4189 - val_accuracy: 0.7904\n",
      "Epoch 75/100\n",
      "159/159 [==============================] - 377s 2s/step - loss: 0.2103 - accuracy: 0.9261 - val_loss: 0.4201 - val_accuracy: 0.7926\n",
      "Epoch 76/100\n",
      "159/159 [==============================] - 373s 2s/step - loss: 0.2074 - accuracy: 0.9272 - val_loss: 0.4199 - val_accuracy: 0.7904\n",
      "Epoch 77/100\n",
      "159/159 [==============================] - 371s 2s/step - loss: 0.2013 - accuracy: 0.9269 - val_loss: 0.4198 - val_accuracy: 0.7898\n",
      "Epoch 78/100\n",
      "159/159 [==============================] - 380s 2s/step - loss: 0.1955 - accuracy: 0.9349 - val_loss: 0.4203 - val_accuracy: 0.7898\n",
      "Epoch 79/100\n",
      "159/159 [==============================] - 377s 2s/step - loss: 0.1962 - accuracy: 0.9294 - val_loss: 0.4215 - val_accuracy: 0.7909\n",
      "Epoch 80/100\n",
      "159/159 [==============================] - 371s 2s/step - loss: 0.2007 - accuracy: 0.9298 - val_loss: 0.4198 - val_accuracy: 0.7892\n",
      "Epoch 81/100\n",
      "159/159 [==============================] - 379s 2s/step - loss: 0.1915 - accuracy: 0.9341 - val_loss: 0.4201 - val_accuracy: 0.7887\n",
      "Epoch 82/100\n",
      "159/159 [==============================] - 385s 2s/step - loss: 0.1898 - accuracy: 0.9367 - val_loss: 0.4208 - val_accuracy: 0.7892\n",
      "Epoch 83/100\n",
      "159/159 [==============================] - 398s 3s/step - loss: 0.1895 - accuracy: 0.9310 - val_loss: 0.4207 - val_accuracy: 0.7881\n",
      "Epoch 84/100\n",
      "159/159 [==============================] - 412s 3s/step - loss: 0.1837 - accuracy: 0.9385 - val_loss: 0.4224 - val_accuracy: 0.7915\n",
      "Epoch 85/100\n",
      "159/159 [==============================] - 420s 3s/step - loss: 0.1860 - accuracy: 0.9347 - val_loss: 0.4224 - val_accuracy: 0.7915\n",
      "Epoch 86/100\n",
      "159/159 [==============================] - 417s 3s/step - loss: 0.1858 - accuracy: 0.9361 - val_loss: 0.4234 - val_accuracy: 0.7921\n",
      "Epoch 87/100\n",
      "159/159 [==============================] - 402s 3s/step - loss: 0.1806 - accuracy: 0.9403 - val_loss: 0.4245 - val_accuracy: 0.7932\n",
      "Epoch 88/100\n",
      "159/159 [==============================] - 391s 2s/step - loss: 0.1844 - accuracy: 0.9340 - val_loss: 0.4236 - val_accuracy: 0.7904\n",
      "Epoch 89/100\n",
      "159/159 [==============================] - 389s 2s/step - loss: 0.1834 - accuracy: 0.9379 - val_loss: 0.4252 - val_accuracy: 0.7909\n",
      "Epoch 90/100\n",
      "159/159 [==============================] - 383s 2s/step - loss: 0.1796 - accuracy: 0.9399 - val_loss: 0.4248 - val_accuracy: 0.7909\n",
      "Epoch 91/100\n",
      "159/159 [==============================] - 389s 2s/step - loss: 0.1860 - accuracy: 0.9338 - val_loss: 0.4243 - val_accuracy: 0.7892\n",
      "Epoch 92/100\n",
      "159/159 [==============================] - 380s 2s/step - loss: 0.1756 - accuracy: 0.9379 - val_loss: 0.4252 - val_accuracy: 0.7904\n",
      "Epoch 93/100\n",
      "159/159 [==============================] - 380s 2s/step - loss: 0.1768 - accuracy: 0.9389 - val_loss: 0.4253 - val_accuracy: 0.7887\n",
      "Epoch 94/100\n",
      "159/159 [==============================] - 379s 2s/step - loss: 0.1784 - accuracy: 0.9367 - val_loss: 0.4256 - val_accuracy: 0.7892\n",
      "Epoch 95/100\n",
      "159/159 [==============================] - 357s 2s/step - loss: 0.1768 - accuracy: 0.9363 - val_loss: 0.4266 - val_accuracy: 0.7909\n",
      "Epoch 96/100\n",
      "159/159 [==============================] - 390s 2s/step - loss: 0.1729 - accuracy: 0.9440 - val_loss: 0.4258 - val_accuracy: 0.7875\n",
      "Epoch 97/100\n",
      "159/159 [==============================] - 428s 3s/step - loss: 0.1753 - accuracy: 0.9393 - val_loss: 0.4270 - val_accuracy: 0.7881\n",
      "Epoch 98/100\n",
      "159/159 [==============================] - 480s 3s/step - loss: 0.1647 - accuracy: 0.9438 - val_loss: 0.4273 - val_accuracy: 0.7881\n",
      "Epoch 99/100\n",
      "159/159 [==============================] - 447s 3s/step - loss: 0.1721 - accuracy: 0.9381 - val_loss: 0.4291 - val_accuracy: 0.7887\n",
      "Epoch 100/100\n",
      "159/159 [==============================] - 390s 2s/step - loss: 0.1679 - accuracy: 0.9410 - val_loss: 0.4299 - val_accuracy: 0.7904\n"
     ]
    }
   ],
   "source": [
    "model = initialize_model()\n",
    "\n",
    "epochs=100\n",
    "history = model.fit(\n",
    "    train,\n",
    "    validation_data=test,\n",
    "    epochs=epochs\n",
    ")\n",
    "test_preds = model.predict(test)\n",
    "# test_preds.to_csv(ideally with image names, definately with the actual labels)\n",
    "train_preds = model.predict(train)\n",
    "# train_preds.to_csv(ideally with image names, definately with the actual labels)"
   ]
  },
  {
   "cell_type": "code",
   "execution_count": null,
   "metadata": {},
   "outputs": [],
   "source": []
  },
  {
   "cell_type": "code",
   "execution_count": 11,
   "metadata": {},
   "outputs": [
    {
     "ename": "ValueError",
     "evalue": "Classification metrics can't handle a mix of binary and continuous targets",
     "output_type": "error",
     "traceback": [
      "\u001b[0;31m---------------------------------------------------------------------------\u001b[0m",
      "\u001b[0;31mValueError\u001b[0m                                Traceback (most recent call last)",
      "\u001b[0;32m<ipython-input-11-5e90391d2338>\u001b[0m in \u001b[0;36m<module>\u001b[0;34m()\u001b[0m\n\u001b[1;32m      2\u001b[0m \u001b[0;32mfrom\u001b[0m \u001b[0msklearn\u001b[0m\u001b[0;34m.\u001b[0m\u001b[0mmetrics\u001b[0m \u001b[0;32mimport\u001b[0m \u001b[0mplot_confusion_matrix\u001b[0m\u001b[0;34m\u001b[0m\u001b[0;34m\u001b[0m\u001b[0m\n\u001b[1;32m      3\u001b[0m \u001b[0;34m\u001b[0m\u001b[0m\n\u001b[0;32m----> 4\u001b[0;31m \u001b[0mcm\u001b[0m \u001b[0;34m=\u001b[0m \u001b[0mconfusion_matrix\u001b[0m\u001b[0;34m(\u001b[0m\u001b[0mtest_labels\u001b[0m\u001b[0;34m,\u001b[0m \u001b[0mtest_preds\u001b[0m\u001b[0;34m)\u001b[0m\u001b[0;34m\u001b[0m\u001b[0;34m\u001b[0m\u001b[0m\n\u001b[0m\u001b[1;32m      5\u001b[0m \u001b[0mcm\u001b[0m\u001b[0;34m\u001b[0m\u001b[0;34m\u001b[0m\u001b[0m\n",
      "\u001b[0;32m/Users/akasper/anaconda3/lib/python3.7/site-packages/sklearn/utils/validation.py\u001b[0m in \u001b[0;36minner_f\u001b[0;34m(*args, **kwargs)\u001b[0m\n\u001b[1;32m     70\u001b[0m                           FutureWarning)\n\u001b[1;32m     71\u001b[0m         \u001b[0mkwargs\u001b[0m\u001b[0;34m.\u001b[0m\u001b[0mupdate\u001b[0m\u001b[0;34m(\u001b[0m\u001b[0;34m{\u001b[0m\u001b[0mk\u001b[0m\u001b[0;34m:\u001b[0m \u001b[0marg\u001b[0m \u001b[0;32mfor\u001b[0m \u001b[0mk\u001b[0m\u001b[0;34m,\u001b[0m \u001b[0marg\u001b[0m \u001b[0;32min\u001b[0m \u001b[0mzip\u001b[0m\u001b[0;34m(\u001b[0m\u001b[0msig\u001b[0m\u001b[0;34m.\u001b[0m\u001b[0mparameters\u001b[0m\u001b[0;34m,\u001b[0m \u001b[0margs\u001b[0m\u001b[0;34m)\u001b[0m\u001b[0;34m}\u001b[0m\u001b[0;34m)\u001b[0m\u001b[0;34m\u001b[0m\u001b[0;34m\u001b[0m\u001b[0m\n\u001b[0;32m---> 72\u001b[0;31m         \u001b[0;32mreturn\u001b[0m \u001b[0mf\u001b[0m\u001b[0;34m(\u001b[0m\u001b[0;34m**\u001b[0m\u001b[0mkwargs\u001b[0m\u001b[0;34m)\u001b[0m\u001b[0;34m\u001b[0m\u001b[0;34m\u001b[0m\u001b[0m\n\u001b[0m\u001b[1;32m     73\u001b[0m     \u001b[0;32mreturn\u001b[0m \u001b[0minner_f\u001b[0m\u001b[0;34m\u001b[0m\u001b[0;34m\u001b[0m\u001b[0m\n\u001b[1;32m     74\u001b[0m \u001b[0;34m\u001b[0m\u001b[0m\n",
      "\u001b[0;32m/Users/akasper/anaconda3/lib/python3.7/site-packages/sklearn/metrics/_classification.py\u001b[0m in \u001b[0;36mconfusion_matrix\u001b[0;34m(y_true, y_pred, labels, sample_weight, normalize)\u001b[0m\n\u001b[1;32m    274\u001b[0m \u001b[0;34m\u001b[0m\u001b[0m\n\u001b[1;32m    275\u001b[0m     \"\"\"\n\u001b[0;32m--> 276\u001b[0;31m     \u001b[0my_type\u001b[0m\u001b[0;34m,\u001b[0m \u001b[0my_true\u001b[0m\u001b[0;34m,\u001b[0m \u001b[0my_pred\u001b[0m \u001b[0;34m=\u001b[0m \u001b[0m_check_targets\u001b[0m\u001b[0;34m(\u001b[0m\u001b[0my_true\u001b[0m\u001b[0;34m,\u001b[0m \u001b[0my_pred\u001b[0m\u001b[0;34m)\u001b[0m\u001b[0;34m\u001b[0m\u001b[0;34m\u001b[0m\u001b[0m\n\u001b[0m\u001b[1;32m    277\u001b[0m     \u001b[0;32mif\u001b[0m \u001b[0my_type\u001b[0m \u001b[0;32mnot\u001b[0m \u001b[0;32min\u001b[0m \u001b[0;34m(\u001b[0m\u001b[0;34m\"binary\"\u001b[0m\u001b[0;34m,\u001b[0m \u001b[0;34m\"multiclass\"\u001b[0m\u001b[0;34m)\u001b[0m\u001b[0;34m:\u001b[0m\u001b[0;34m\u001b[0m\u001b[0;34m\u001b[0m\u001b[0m\n\u001b[1;32m    278\u001b[0m         \u001b[0;32mraise\u001b[0m \u001b[0mValueError\u001b[0m\u001b[0;34m(\u001b[0m\u001b[0;34m\"%s is not supported\"\u001b[0m \u001b[0;34m%\u001b[0m \u001b[0my_type\u001b[0m\u001b[0;34m)\u001b[0m\u001b[0;34m\u001b[0m\u001b[0;34m\u001b[0m\u001b[0m\n",
      "\u001b[0;32m/Users/akasper/anaconda3/lib/python3.7/site-packages/sklearn/metrics/_classification.py\u001b[0m in \u001b[0;36m_check_targets\u001b[0;34m(y_true, y_pred)\u001b[0m\n\u001b[1;32m     89\u001b[0m     \u001b[0;32mif\u001b[0m \u001b[0mlen\u001b[0m\u001b[0;34m(\u001b[0m\u001b[0my_type\u001b[0m\u001b[0;34m)\u001b[0m \u001b[0;34m>\u001b[0m \u001b[0;36m1\u001b[0m\u001b[0;34m:\u001b[0m\u001b[0;34m\u001b[0m\u001b[0;34m\u001b[0m\u001b[0m\n\u001b[1;32m     90\u001b[0m         raise ValueError(\"Classification metrics can't handle a mix of {0} \"\n\u001b[0;32m---> 91\u001b[0;31m                          \"and {1} targets\".format(type_true, type_pred))\n\u001b[0m\u001b[1;32m     92\u001b[0m \u001b[0;34m\u001b[0m\u001b[0m\n\u001b[1;32m     93\u001b[0m     \u001b[0;31m# We can't have more than one value on y_type => The set is no more needed\u001b[0m\u001b[0;34m\u001b[0m\u001b[0;34m\u001b[0m\u001b[0;34m\u001b[0m\u001b[0m\n",
      "\u001b[0;31mValueError\u001b[0m: Classification metrics can't handle a mix of binary and continuous targets"
     ]
    }
   ],
   "source": []
  },
  {
   "cell_type": "markdown",
   "metadata": {},
   "source": [
    "model.predict(test.take(6))"
   ]
  },
  {
   "cell_type": "code",
   "execution_count": 49,
   "metadata": {},
   "outputs": [
    {
     "data": {
      "image/png": "[encoded data removed]",
      "text/plain": [
       "<Figure size 576x576 with 2 Axes>"
      ]
     },
     "metadata": {
      "needs_background": "light"
     },
     "output_type": "display_data"
    }
   ],
   "source": [
    "# Results visualisations after ResNet1522\n",
    "acc = history.history['accuracy']\n",
    "val_acc = history.history['val_accuracy']\n",
    "\n",
    "loss = history.history['loss']\n",
    "val_loss = history.history['val_loss']\n",
    "\n",
    "epochs_range = range(epochs)\n",
    "\n",
    "plt.figure(figsize=(8, 8))\n",
    "plt.subplot(1, 2, 1)\n",
    "plt.plot(epochs_range, acc, label='Training Accuracy')\n",
    "plt.plot(epochs_range, val_acc, label='Validation Accuracy')\n",
    "plt.legend(loc='lower right')\n",
    "plt.title('Training and Validation Accuracy')\n",
    "\n",
    "plt.subplot(1, 2, 2)\n",
    "plt.plot(epochs_range, loss, label='Training Loss')\n",
    "plt.plot(epochs_range, val_loss, label='Validation Loss')\n",
    "plt.legend(loc='upper right')\n",
    "plt.title('Training and Validation Loss')\n",
    "plt.show()"
   ]
  },
  {
   "cell_type": "code",
   "execution_count": null,
   "metadata": {},
   "outputs": [],
   "source": []
  },
  {
   "cell_type": "code",
   "execution_count": 56,
   "metadata": {},
   "outputs": [
    {
     "name": "stdout",
     "output_type": "stream",
     "text": [
      "822 943\n"
     ]
    }
   ],
   "source": [
    "neg = 0\n",
    "pos = 0\n",
    "test_preds_binary = []\n",
    "for i in test_preds:\n",
    "    if i < 0:\n",
    "        neg += 1\n",
    "        test_preds_binary.append(0)\n",
    "    elif i > 0:\n",
    "        pos += 1\n",
    "        test_preds_binary.append(1)\n",
    "print(neg, pos)"
   ]
  },
  {
   "cell_type": "code",
   "execution_count": 70,
   "metadata": {},
   "outputs": [
    {
     "data": {
      "text/plain": [
       "array([[396, 468],\n",
       "       [426, 475]])"
      ]
     },
     "execution_count": 70,
     "metadata": {},
     "output_type": "execute_result"
    }
   ],
   "source": [
    "# Confusion Matrix\n",
    "from sklearn.metrics import confusion_matrix\n",
    "from sklearn.metrics import plot_confusion_matrix\n",
    "\n",
    "test_labels = np.concatenate([y for x, y in test], axis=0)\n",
    "\n",
    "cm = confusion_matrix(test_labels, test_preds_binary)\n",
    "cm"
   ]
  },
  {
   "cell_type": "code",
   "execution_count": 87,
   "metadata": {},
   "outputs": [
    {
     "data": {
      "text/plain": [
       "<matplotlib.axes._subplots.AxesSubplot at 0x7f9c52b64410>"
      ]
     },
     "execution_count": 87,
     "metadata": {},
     "output_type": "execute_result"
    },
    {
     "data": {
      "image/png": "[encoded data removed]",
      "text/plain": [
       "<Figure size 720x504 with 2 Axes>"
      ]
     },
     "metadata": {},
     "output_type": "display_data"
    }
   ],
   "source": [
    "import seaborn as sn\n",
    "import pandas as pd\n",
    "import matplotlib.pyplot as plt\n",
    "\n",
    "plt.figure(figsize = (10,7))\n",
    "sn.set(font_scale=1.4)#for label size\n",
    "sn.heatmap(cm, cmap=\"Blues\", annot=True,annot_kws={\"size\": 16}, fmt='g')"
   ]
  },
  {
   "cell_type": "code",
   "execution_count": 94,
   "metadata": {},
   "outputs": [
    {
     "ename": "ValueError",
     "evalue": "Classification metrics can't handle a mix of binary and continuous targets",
     "output_type": "error",
     "traceback": [
      "\u001b[0;31m---------------------------------------------------------------------------\u001b[0m",
      "\u001b[0;31mValueError\u001b[0m                                Traceback (most recent call last)",
      "\u001b[0;32m<ipython-input-94-98c296647fc5>\u001b[0m in \u001b[0;36m<module>\u001b[0;34m()\u001b[0m\n\u001b[1;32m      1\u001b[0m \u001b[0;32mfrom\u001b[0m \u001b[0msklearn\u001b[0m\u001b[0;34m.\u001b[0m\u001b[0mmetrics\u001b[0m \u001b[0;32mimport\u001b[0m \u001b[0mrecall_score\u001b[0m\u001b[0;34m\u001b[0m\u001b[0;34m\u001b[0m\u001b[0m\n\u001b[1;32m      2\u001b[0m \u001b[0;34m\u001b[0m\u001b[0m\n\u001b[0;32m----> 3\u001b[0;31m \u001b[0mrecall_score\u001b[0m\u001b[0;34m(\u001b[0m\u001b[0mtest_labels\u001b[0m\u001b[0;34m,\u001b[0m \u001b[0mtest_preds\u001b[0m\u001b[0;34m)\u001b[0m\u001b[0;34m\u001b[0m\u001b[0;34m\u001b[0m\u001b[0m\n\u001b[0m",
      "\u001b[0;32m/Users/akasper/anaconda3/lib/python3.7/site-packages/sklearn/utils/validation.py\u001b[0m in \u001b[0;36minner_f\u001b[0;34m(*args, **kwargs)\u001b[0m\n\u001b[1;32m     70\u001b[0m                           FutureWarning)\n\u001b[1;32m     71\u001b[0m         \u001b[0mkwargs\u001b[0m\u001b[0;34m.\u001b[0m\u001b[0mupdate\u001b[0m\u001b[0;34m(\u001b[0m\u001b[0;34m{\u001b[0m\u001b[0mk\u001b[0m\u001b[0;34m:\u001b[0m \u001b[0marg\u001b[0m \u001b[0;32mfor\u001b[0m \u001b[0mk\u001b[0m\u001b[0;34m,\u001b[0m \u001b[0marg\u001b[0m \u001b[0;32min\u001b[0m \u001b[0mzip\u001b[0m\u001b[0;34m(\u001b[0m\u001b[0msig\u001b[0m\u001b[0;34m.\u001b[0m\u001b[0mparameters\u001b[0m\u001b[0;34m,\u001b[0m \u001b[0margs\u001b[0m\u001b[0;34m)\u001b[0m\u001b[0;34m}\u001b[0m\u001b[0;34m)\u001b[0m\u001b[0;34m\u001b[0m\u001b[0;34m\u001b[0m\u001b[0m\n\u001b[0;32m---> 72\u001b[0;31m         \u001b[0;32mreturn\u001b[0m \u001b[0mf\u001b[0m\u001b[0;34m(\u001b[0m\u001b[0;34m**\u001b[0m\u001b[0mkwargs\u001b[0m\u001b[0;34m)\u001b[0m\u001b[0;34m\u001b[0m\u001b[0;34m\u001b[0m\u001b[0m\n\u001b[0m\u001b[1;32m     73\u001b[0m     \u001b[0;32mreturn\u001b[0m \u001b[0minner_f\u001b[0m\u001b[0;34m\u001b[0m\u001b[0;34m\u001b[0m\u001b[0m\n\u001b[1;32m     74\u001b[0m \u001b[0;34m\u001b[0m\u001b[0m\n",
      "\u001b[0;32m/Users/akasper/anaconda3/lib/python3.7/site-packages/sklearn/metrics/_classification.py\u001b[0m in \u001b[0;36mrecall_score\u001b[0;34m(y_true, y_pred, labels, pos_label, average, sample_weight, zero_division)\u001b[0m\n\u001b[1;32m   1739\u001b[0m                                                  \u001b[0mwarn_for\u001b[0m\u001b[0;34m=\u001b[0m\u001b[0;34m(\u001b[0m\u001b[0;34m'recall'\u001b[0m\u001b[0;34m,\u001b[0m\u001b[0;34m)\u001b[0m\u001b[0;34m,\u001b[0m\u001b[0;34m\u001b[0m\u001b[0;34m\u001b[0m\u001b[0m\n\u001b[1;32m   1740\u001b[0m                                                  \u001b[0msample_weight\u001b[0m\u001b[0;34m=\u001b[0m\u001b[0msample_weight\u001b[0m\u001b[0;34m,\u001b[0m\u001b[0;34m\u001b[0m\u001b[0;34m\u001b[0m\u001b[0m\n\u001b[0;32m-> 1741\u001b[0;31m                                                  zero_division=zero_division)\n\u001b[0m\u001b[1;32m   1742\u001b[0m     \u001b[0;32mreturn\u001b[0m \u001b[0mr\u001b[0m\u001b[0;34m\u001b[0m\u001b[0;34m\u001b[0m\u001b[0m\n\u001b[1;32m   1743\u001b[0m \u001b[0;34m\u001b[0m\u001b[0m\n",
      "\u001b[0;32m/Users/akasper/anaconda3/lib/python3.7/site-packages/sklearn/utils/validation.py\u001b[0m in \u001b[0;36minner_f\u001b[0;34m(*args, **kwargs)\u001b[0m\n\u001b[1;32m     70\u001b[0m                           FutureWarning)\n\u001b[1;32m     71\u001b[0m         \u001b[0mkwargs\u001b[0m\u001b[0;34m.\u001b[0m\u001b[0mupdate\u001b[0m\u001b[0;34m(\u001b[0m\u001b[0;34m{\u001b[0m\u001b[0mk\u001b[0m\u001b[0;34m:\u001b[0m \u001b[0marg\u001b[0m \u001b[0;32mfor\u001b[0m \u001b[0mk\u001b[0m\u001b[0;34m,\u001b[0m \u001b[0marg\u001b[0m \u001b[0;32min\u001b[0m \u001b[0mzip\u001b[0m\u001b[0;34m(\u001b[0m\u001b[0msig\u001b[0m\u001b[0;34m.\u001b[0m\u001b[0mparameters\u001b[0m\u001b[0;34m,\u001b[0m \u001b[0margs\u001b[0m\u001b[0;34m)\u001b[0m\u001b[0;34m}\u001b[0m\u001b[0;34m)\u001b[0m\u001b[0;34m\u001b[0m\u001b[0;34m\u001b[0m\u001b[0m\n\u001b[0;32m---> 72\u001b[0;31m         \u001b[0;32mreturn\u001b[0m \u001b[0mf\u001b[0m\u001b[0;34m(\u001b[0m\u001b[0;34m**\u001b[0m\u001b[0mkwargs\u001b[0m\u001b[0;34m)\u001b[0m\u001b[0;34m\u001b[0m\u001b[0;34m\u001b[0m\u001b[0m\n\u001b[0m\u001b[1;32m     73\u001b[0m     \u001b[0;32mreturn\u001b[0m \u001b[0minner_f\u001b[0m\u001b[0;34m\u001b[0m\u001b[0;34m\u001b[0m\u001b[0m\n\u001b[1;32m     74\u001b[0m \u001b[0;34m\u001b[0m\u001b[0m\n",
      "\u001b[0;32m/Users/akasper/anaconda3/lib/python3.7/site-packages/sklearn/metrics/_classification.py\u001b[0m in \u001b[0;36mprecision_recall_fscore_support\u001b[0;34m(y_true, y_pred, beta, labels, pos_label, average, warn_for, sample_weight, zero_division)\u001b[0m\n\u001b[1;32m   1432\u001b[0m         \u001b[0;32mraise\u001b[0m \u001b[0mValueError\u001b[0m\u001b[0;34m(\u001b[0m\u001b[0;34m\"beta should be >=0 in the F-beta score\"\u001b[0m\u001b[0;34m)\u001b[0m\u001b[0;34m\u001b[0m\u001b[0;34m\u001b[0m\u001b[0m\n\u001b[1;32m   1433\u001b[0m     labels = _check_set_wise_labels(y_true, y_pred, average, labels,\n\u001b[0;32m-> 1434\u001b[0;31m                                     pos_label)\n\u001b[0m\u001b[1;32m   1435\u001b[0m \u001b[0;34m\u001b[0m\u001b[0m\n\u001b[1;32m   1436\u001b[0m     \u001b[0;31m# Calculate tp_sum, pred_sum, true_sum ###\u001b[0m\u001b[0;34m\u001b[0m\u001b[0;34m\u001b[0m\u001b[0;34m\u001b[0m\u001b[0m\n",
      "\u001b[0;32m/Users/akasper/anaconda3/lib/python3.7/site-packages/sklearn/metrics/_classification.py\u001b[0m in \u001b[0;36m_check_set_wise_labels\u001b[0;34m(y_true, y_pred, average, labels, pos_label)\u001b[0m\n\u001b[1;32m   1248\u001b[0m                          str(average_options))\n\u001b[1;32m   1249\u001b[0m \u001b[0;34m\u001b[0m\u001b[0m\n\u001b[0;32m-> 1250\u001b[0;31m     \u001b[0my_type\u001b[0m\u001b[0;34m,\u001b[0m \u001b[0my_true\u001b[0m\u001b[0;34m,\u001b[0m \u001b[0my_pred\u001b[0m \u001b[0;34m=\u001b[0m \u001b[0m_check_targets\u001b[0m\u001b[0;34m(\u001b[0m\u001b[0my_true\u001b[0m\u001b[0;34m,\u001b[0m \u001b[0my_pred\u001b[0m\u001b[0;34m)\u001b[0m\u001b[0;34m\u001b[0m\u001b[0;34m\u001b[0m\u001b[0m\n\u001b[0m\u001b[1;32m   1251\u001b[0m     \u001b[0mpresent_labels\u001b[0m \u001b[0;34m=\u001b[0m \u001b[0munique_labels\u001b[0m\u001b[0;34m(\u001b[0m\u001b[0my_true\u001b[0m\u001b[0;34m,\u001b[0m \u001b[0my_pred\u001b[0m\u001b[0;34m)\u001b[0m\u001b[0;34m\u001b[0m\u001b[0;34m\u001b[0m\u001b[0m\n\u001b[1;32m   1252\u001b[0m     \u001b[0;32mif\u001b[0m \u001b[0maverage\u001b[0m \u001b[0;34m==\u001b[0m \u001b[0;34m'binary'\u001b[0m\u001b[0;34m:\u001b[0m\u001b[0;34m\u001b[0m\u001b[0;34m\u001b[0m\u001b[0m\n",
      "\u001b[0;32m/Users/akasper/anaconda3/lib/python3.7/site-packages/sklearn/metrics/_classification.py\u001b[0m in \u001b[0;36m_check_targets\u001b[0;34m(y_true, y_pred)\u001b[0m\n\u001b[1;32m     89\u001b[0m     \u001b[0;32mif\u001b[0m \u001b[0mlen\u001b[0m\u001b[0;34m(\u001b[0m\u001b[0my_type\u001b[0m\u001b[0;34m)\u001b[0m \u001b[0;34m>\u001b[0m \u001b[0;36m1\u001b[0m\u001b[0;34m:\u001b[0m\u001b[0;34m\u001b[0m\u001b[0;34m\u001b[0m\u001b[0m\n\u001b[1;32m     90\u001b[0m         raise ValueError(\"Classification metrics can't handle a mix of {0} \"\n\u001b[0;32m---> 91\u001b[0;31m                          \"and {1} targets\".format(type_true, type_pred))\n\u001b[0m\u001b[1;32m     92\u001b[0m \u001b[0;34m\u001b[0m\u001b[0m\n\u001b[1;32m     93\u001b[0m     \u001b[0;31m# We can't have more than one value on y_type => The set is no more needed\u001b[0m\u001b[0;34m\u001b[0m\u001b[0;34m\u001b[0m\u001b[0;34m\u001b[0m\u001b[0m\n",
      "\u001b[0;31mValueError\u001b[0m: Classification metrics can't handle a mix of binary and continuous targets"
     ]
    }
   ],
   "source": [
    "from sklearn.metrics import recall_score\n",
    "\n",
    "recall_score(test_labels, test_preds)"
   ]
  },
  {
   "cell_type": "code",
   "execution_count": 78,
   "metadata": {},
   "outputs": [
    {
     "ename": "ValueError",
     "evalue": "plot_confusion_matrix only supports classifiers",
     "output_type": "error",
     "traceback": [
      "\u001b[0;31m---------------------------------------------------------------------------\u001b[0m",
      "\u001b[0;31mValueError\u001b[0m                                Traceback (most recent call last)",
      "\u001b[0;32m<ipython-input-78-342c6551fcc0>\u001b[0m in \u001b[0;36m<module>\u001b[0;34m()\u001b[0m\n\u001b[0;32m----> 1\u001b[0;31m \u001b[0mplot_confusion_matrix\u001b[0m\u001b[0;34m(\u001b[0m\u001b[0mcm\u001b[0m\u001b[0;34m,\u001b[0m \u001b[0;34m[\u001b[0m\u001b[0;36m0\u001b[0m\u001b[0;34m,\u001b[0m \u001b[0;36m1\u001b[0m\u001b[0;34m]\u001b[0m\u001b[0;34m,\u001b[0m \u001b[0mtest_labels\u001b[0m\u001b[0;34m)\u001b[0m\u001b[0;34m\u001b[0m\u001b[0;34m\u001b[0m\u001b[0m\n\u001b[0m",
      "\u001b[0;32m/Users/akasper/anaconda3/lib/python3.7/site-packages/sklearn/utils/validation.py\u001b[0m in \u001b[0;36minner_f\u001b[0;34m(*args, **kwargs)\u001b[0m\n\u001b[1;32m     70\u001b[0m                           FutureWarning)\n\u001b[1;32m     71\u001b[0m         \u001b[0mkwargs\u001b[0m\u001b[0;34m.\u001b[0m\u001b[0mupdate\u001b[0m\u001b[0;34m(\u001b[0m\u001b[0;34m{\u001b[0m\u001b[0mk\u001b[0m\u001b[0;34m:\u001b[0m \u001b[0marg\u001b[0m \u001b[0;32mfor\u001b[0m \u001b[0mk\u001b[0m\u001b[0;34m,\u001b[0m \u001b[0marg\u001b[0m \u001b[0;32min\u001b[0m \u001b[0mzip\u001b[0m\u001b[0;34m(\u001b[0m\u001b[0msig\u001b[0m\u001b[0;34m.\u001b[0m\u001b[0mparameters\u001b[0m\u001b[0;34m,\u001b[0m \u001b[0margs\u001b[0m\u001b[0;34m)\u001b[0m\u001b[0;34m}\u001b[0m\u001b[0;34m)\u001b[0m\u001b[0;34m\u001b[0m\u001b[0;34m\u001b[0m\u001b[0m\n\u001b[0;32m---> 72\u001b[0;31m         \u001b[0;32mreturn\u001b[0m \u001b[0mf\u001b[0m\u001b[0;34m(\u001b[0m\u001b[0;34m**\u001b[0m\u001b[0mkwargs\u001b[0m\u001b[0;34m)\u001b[0m\u001b[0;34m\u001b[0m\u001b[0;34m\u001b[0m\u001b[0m\n\u001b[0m\u001b[1;32m     73\u001b[0m     \u001b[0;32mreturn\u001b[0m \u001b[0minner_f\u001b[0m\u001b[0;34m\u001b[0m\u001b[0;34m\u001b[0m\u001b[0m\n\u001b[1;32m     74\u001b[0m \u001b[0;34m\u001b[0m\u001b[0m\n",
      "\u001b[0;32m/Users/akasper/anaconda3/lib/python3.7/site-packages/sklearn/metrics/_plot/confusion_matrix.py\u001b[0m in \u001b[0;36mplot_confusion_matrix\u001b[0;34m(estimator, X, y_true, labels, sample_weight, normalize, display_labels, include_values, xticks_rotation, values_format, cmap, ax)\u001b[0m\n\u001b[1;32m    215\u001b[0m \u001b[0;34m\u001b[0m\u001b[0m\n\u001b[1;32m    216\u001b[0m     \u001b[0;32mif\u001b[0m \u001b[0;32mnot\u001b[0m \u001b[0mis_classifier\u001b[0m\u001b[0;34m(\u001b[0m\u001b[0mestimator\u001b[0m\u001b[0;34m)\u001b[0m\u001b[0;34m:\u001b[0m\u001b[0;34m\u001b[0m\u001b[0;34m\u001b[0m\u001b[0m\n\u001b[0;32m--> 217\u001b[0;31m         \u001b[0;32mraise\u001b[0m \u001b[0mValueError\u001b[0m\u001b[0;34m(\u001b[0m\u001b[0;34m\"plot_confusion_matrix only supports classifiers\"\u001b[0m\u001b[0;34m)\u001b[0m\u001b[0;34m\u001b[0m\u001b[0;34m\u001b[0m\u001b[0m\n\u001b[0m\u001b[1;32m    218\u001b[0m \u001b[0;34m\u001b[0m\u001b[0m\n\u001b[1;32m    219\u001b[0m     \u001b[0my_pred\u001b[0m \u001b[0;34m=\u001b[0m \u001b[0mestimator\u001b[0m\u001b[0;34m.\u001b[0m\u001b[0mpredict\u001b[0m\u001b[0;34m(\u001b[0m\u001b[0mX\u001b[0m\u001b[0;34m)\u001b[0m\u001b[0;34m\u001b[0m\u001b[0;34m\u001b[0m\u001b[0m\n",
      "\u001b[0;31mValueError\u001b[0m: plot_confusion_matrix only supports classifiers"
     ]
    }
   ],
   "source": [
    "plot_confusion_matrix(cm, [0, 1], test_labels)"
   ]
  },
  {
   "cell_type": "code",
   "execution_count": null,
   "metadata": {},
   "outputs": [],
   "source": []
  },
  {
   "cell_type": "code",
   "execution_count": null,
   "metadata": {},
   "outputs": [],
   "source": []
  }
 ],
 "metadata": {
  "kernelspec": {
   "display_name": "Python 3",
   "language": "python",
   "name": "python3"
  },
  "language_info": {
   "codemirror_mode": {
    "name": "ipython",
    "version": 3
   },
   "file_extension": ".py",
   "mimetype": "text/x-python",
   "name": "python",
   "nbconvert_exporter": "python",
   "pygments_lexer": "ipython3",
   "version": "3.7.6"
  }
 },
 "nbformat": 4,
 "nbformat_minor": 4
}
